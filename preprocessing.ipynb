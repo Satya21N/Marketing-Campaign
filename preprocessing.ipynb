{
 "cells": [
  {
   "cell_type": "code",
   "execution_count": 12,
   "metadata": {},
   "outputs": [],
   "source": [
    "import pandas as pd\n",
    "from sklearn.model_selection import train_test_split\n",
    "from imblearn.over_sampling import SMOTE"
   ]
  },
  {
   "cell_type": "code",
   "execution_count": 13,
   "metadata": {},
   "outputs": [],
   "source": [
    "campaign = pd.read_csv('training_data.csv')"
   ]
  },
  {
   "cell_type": "code",
   "execution_count": 14,
   "metadata": {},
   "outputs": [],
   "source": [
    "\n",
    "campaign.rename(columns={' Income ': 'Income'}, inplace = True)\n",
    "campaign[\"Income\"]=campaign[\"Income\"].str.replace(\"$\",\"\")\n",
    "campaign[\"Income\"]=campaign[\"Income\"].str.replace(\",\",\"\")\n",
    "campaign[\"Income\"]=campaign[\"Income\"].str.replace(\" \",\"\")\n",
    "campaign[\"Income\"]=campaign[\"Income\"].astype(float)\n"
   ]
  },
  {
   "cell_type": "code",
   "execution_count": 15,
   "metadata": {},
   "outputs": [
    {
     "data": {
      "text/plain": [
       "Year_Birth              0\n",
       "Education               0\n",
       "Marital_Status          0\n",
       "Income                 21\n",
       "Kidhome                 0\n",
       "Teenhome                0\n",
       "Dt_Customer             0\n",
       "Recency                 0\n",
       "MntGoldProds            0\n",
       "MntWines                0\n",
       "MntFruits               0\n",
       "MntFishProducts         0\n",
       "MntSweetProducts        0\n",
       "MntMeatProducts         0\n",
       "NumDealsPurchases       0\n",
       "NumWebPurchases         0\n",
       "AcceptedCmp3            0\n",
       "NumCatalogPurchases     0\n",
       "NumStorePurchases       0\n",
       "NumWebVisitsMonth       0\n",
       "AcceptedCmp2            0\n",
       "AcceptedCmp4            0\n",
       "AcceptedCmp5            0\n",
       "AcceptedCmp1            0\n",
       "Complain                0\n",
       "dtype: int64"
      ]
     },
     "execution_count": 15,
     "metadata": {},
     "output_type": "execute_result"
    }
   ],
   "source": [
    "missing_values = campaign.isnull().sum()\n",
    "missing_values\n"
   ]
  },
  {
   "cell_type": "code",
   "execution_count": 16,
   "metadata": {},
   "outputs": [],
   "source": [
    "campaign = pd.get_dummies(campaign, columns=['Education'], prefix=['Education'])\n",
    "campaign = pd.get_dummies(campaign, columns=['Marital_Status'], prefix=['Marital_Status'])\n",
    "campaign.drop(\"Dt_Customer\",axis=1,inplace=True)\n",
    "# campaign[\"Income\"]=campaign[\"Income\"].fillna(campaign[\"Income\"].median())\n",
    "campaign[\"Income\"]=campaign[\"Income\"].fillna(campaign[\"Income\"].mean())\n",
    "# campaign.dropna()\n",
    "campaign.drop(\"Year_Birth\",axis=1,inplace=True)\n",
    "# print(campaign.columns)"
   ]
  },
  {
   "cell_type": "code",
   "execution_count": 17,
   "metadata": {},
   "outputs": [],
   "source": [
    "campaign=campaign.drop(\"Marital_Status_YOLO\",axis=1)\n",
    "campaign=campaign.drop(\"Marital_Status_Absurd\",axis=1)"
   ]
  },
  {
   "cell_type": "code",
   "execution_count": 18,
   "metadata": {},
   "outputs": [],
   "source": [
    "data1 =pd.read_csv(\"target.csv\",header=None,names=[\"Index\",\"Outcome\"])\n",
    "df1 = pd.DataFrame(data1)\n",
    "df1=df1.drop(\"Index\",axis=1)\n",
    "campaign = pd.concat([campaign, df1],axis=1)\n",
    "campaign.to_csv(\"D.csv\")\n",
    "X = campaign.drop('Outcome', axis=1)\n",
    "y = campaign['Outcome']\n",
    "X_train, X_test, y_train, y_test = train_test_split(X, y, test_size=0.3, random_state=42)\n",
    "smote = SMOTE(random_state=42)\n",
    "X_resampled, y_resampled = smote.fit_resample(X_train, y_train)\n",
    "oversampled_data = pd.concat([pd.DataFrame(X_resampled), pd.DataFrame(y_resampled, columns=['Outcome'])], axis=1)\n",
    "X = oversampled_data.drop('Outcome', axis=1)\n",
    "y = oversampled_data['Outcome']"
   ]
  },
  {
   "cell_type": "code",
   "execution_count": 19,
   "metadata": {},
   "outputs": [
    {
     "data": {
      "text/plain": [
       "Outcome\n",
       "0    1715\n",
       "1     301\n",
       "Name: count, dtype: int64"
      ]
     },
     "execution_count": 19,
     "metadata": {},
     "output_type": "execute_result"
    }
   ],
   "source": [
    "unique=campaign[\"Outcome\"].value_counts()\n",
    "unique"
   ]
  },
  {
   "cell_type": "code",
   "execution_count": 20,
   "metadata": {},
   "outputs": [
    {
     "data": {
      "text/plain": [
       "(2016, 33)"
      ]
     },
     "execution_count": 20,
     "metadata": {},
     "output_type": "execute_result"
    }
   ],
   "source": [
    "campaign.shape"
   ]
  },
  {
   "cell_type": "code",
   "execution_count": 21,
   "metadata": {},
   "outputs": [
    {
     "data": {
      "text/plain": [
       "Index(['Income', 'Kidhome', 'Teenhome', 'Recency', 'MntGoldProds', 'MntWines',\n",
       "       'MntFruits', 'MntFishProducts', 'MntSweetProducts', 'MntMeatProducts',\n",
       "       'NumDealsPurchases', 'NumWebPurchases', 'AcceptedCmp3',\n",
       "       'NumCatalogPurchases', 'NumStorePurchases', 'NumWebVisitsMonth',\n",
       "       'AcceptedCmp2', 'AcceptedCmp4', 'AcceptedCmp5', 'AcceptedCmp1',\n",
       "       'Complain', 'Education_2n Cycle', 'Education_Basic',\n",
       "       'Education_Graduation', 'Education_Master', 'Education_PhD',\n",
       "       'Marital_Status_Alone', 'Marital_Status_Divorced',\n",
       "       'Marital_Status_Married', 'Marital_Status_Single',\n",
       "       'Marital_Status_Together', 'Marital_Status_Widow', 'Outcome'],\n",
       "      dtype='object')"
      ]
     },
     "execution_count": 21,
     "metadata": {},
     "output_type": "execute_result"
    }
   ],
   "source": [
    "campaign.columns"
   ]
  },
  {
   "cell_type": "code",
   "execution_count": 22,
   "metadata": {},
   "outputs": [],
   "source": [
    "oversampled_data.to_csv(\"CC.csv\")"
   ]
  }
 ],
 "metadata": {
  "kernelspec": {
   "display_name": "Python 3",
   "language": "python",
   "name": "python3"
  },
  "language_info": {
   "codemirror_mode": {
    "name": "ipython",
    "version": 3
   },
   "file_extension": ".py",
   "mimetype": "text/x-python",
   "name": "python",
   "nbconvert_exporter": "python",
   "pygments_lexer": "ipython3",
   "version": "3.11.3"
  }
 },
 "nbformat": 4,
 "nbformat_minor": 2
}
